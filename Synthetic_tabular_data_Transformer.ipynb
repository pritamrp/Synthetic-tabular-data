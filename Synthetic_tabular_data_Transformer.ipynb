{
 "cells": [
  {
   "cell_type": "code",
   "execution_count": 1,
   "metadata": {
    "colab": {
     "base_uri": "https://localhost:8080/"
    },
    "id": "ZGq56Wm1dGG0",
    "outputId": "8e186324-c527-469d-b3de-53b709bcb1bf"
   },
   "outputs": [],
   "source": [
    "# prompt: use csv file from gdrive and convert to dataframe\n",
    "#import pandas as pd\n",
    "\n",
    "#from google.colab import drive\n",
    "#drive.mount('/content/gdrive')\n",
    "\n",
    "import pandas as pd\n",
    "df = pd.read_csv('online_gaming_behavior_dataset.csv')\n"
   ]
  },
  {
   "cell_type": "code",
   "execution_count": 2,
   "metadata": {
    "colab": {
     "base_uri": "https://localhost:8080/"
    },
    "id": "QTg6Jb-6d0GE",
    "outputId": "5ad78ce8-e4e9-4f50-f6df-42afb7b20add"
   },
   "outputs": [
    {
     "name": "stdout",
     "output_type": "stream",
     "text": [
      "<class 'pandas.core.frame.DataFrame'>\n",
      "RangeIndex: 40034 entries, 0 to 40033\n",
      "Data columns (total 13 columns):\n",
      " #   Column                     Non-Null Count  Dtype  \n",
      "---  ------                     --------------  -----  \n",
      " 0   PlayerID                   40034 non-null  int64  \n",
      " 1   Age                        40034 non-null  int64  \n",
      " 2   Gender                     40034 non-null  object \n",
      " 3   Location                   40034 non-null  object \n",
      " 4   GameGenre                  40034 non-null  object \n",
      " 5   PlayTimeHours              40034 non-null  float64\n",
      " 6   InGamePurchases            40034 non-null  int64  \n",
      " 7   GameDifficulty             40034 non-null  object \n",
      " 8   SessionsPerWeek            40034 non-null  int64  \n",
      " 9   AvgSessionDurationMinutes  40034 non-null  int64  \n",
      " 10  PlayerLevel                40034 non-null  int64  \n",
      " 11  AchievementsUnlocked       40034 non-null  int64  \n",
      " 12  EngagementLevel            40034 non-null  object \n",
      "dtypes: float64(1), int64(7), object(5)\n",
      "memory usage: 4.0+ MB\n"
     ]
    }
   ],
   "source": [
    "df.info()"
   ]
  },
  {
   "cell_type": "code",
   "execution_count": 3,
   "metadata": {
    "colab": {
     "base_uri": "https://localhost:8080/",
     "height": 491
    },
    "id": "NlYBX2LUd4i4",
    "outputId": "fc1d4353-8ff5-4915-ef8a-87f15ed0e733"
   },
   "outputs": [
    {
     "data": {
      "text/plain": [
       "PlayerID                     40034\n",
       "Age                             35\n",
       "Gender                           2\n",
       "Location                         4\n",
       "GameGenre                        5\n",
       "PlayTimeHours                40034\n",
       "InGamePurchases                  2\n",
       "GameDifficulty                   3\n",
       "SessionsPerWeek                 20\n",
       "AvgSessionDurationMinutes      170\n",
       "PlayerLevel                     99\n",
       "AchievementsUnlocked            50\n",
       "EngagementLevel                  3\n",
       "dtype: int64"
      ]
     },
     "execution_count": 3,
     "metadata": {},
     "output_type": "execute_result"
    }
   ],
   "source": [
    "df.nunique()"
   ]
  },
  {
   "cell_type": "code",
   "execution_count": 4,
   "metadata": {
    "colab": {
     "base_uri": "https://localhost:8080/",
     "height": 300
    },
    "id": "szh30crleQon",
    "outputId": "69d1118e-4c38-4f7e-ed1f-5c58d3c80fb3"
   },
   "outputs": [
    {
     "data": {
      "text/html": [
       "<div>\n",
       "<style scoped>\n",
       "    .dataframe tbody tr th:only-of-type {\n",
       "        vertical-align: middle;\n",
       "    }\n",
       "\n",
       "    .dataframe tbody tr th {\n",
       "        vertical-align: top;\n",
       "    }\n",
       "\n",
       "    .dataframe thead th {\n",
       "        text-align: right;\n",
       "    }\n",
       "</style>\n",
       "<table border=\"1\" class=\"dataframe\">\n",
       "  <thead>\n",
       "    <tr style=\"text-align: right;\">\n",
       "      <th></th>\n",
       "      <th>count</th>\n",
       "      <th>mean</th>\n",
       "      <th>std</th>\n",
       "      <th>min</th>\n",
       "      <th>25%</th>\n",
       "      <th>50%</th>\n",
       "      <th>75%</th>\n",
       "      <th>max</th>\n",
       "    </tr>\n",
       "  </thead>\n",
       "  <tbody>\n",
       "    <tr>\n",
       "      <th>PlayerID</th>\n",
       "      <td>40034.0</td>\n",
       "      <td>29016.500000</td>\n",
       "      <td>11556.964675</td>\n",
       "      <td>9000.000000</td>\n",
       "      <td>19008.250000</td>\n",
       "      <td>29016.500000</td>\n",
       "      <td>39024.750000</td>\n",
       "      <td>49033.000000</td>\n",
       "    </tr>\n",
       "    <tr>\n",
       "      <th>Age</th>\n",
       "      <td>40034.0</td>\n",
       "      <td>31.992531</td>\n",
       "      <td>10.043227</td>\n",
       "      <td>15.000000</td>\n",
       "      <td>23.000000</td>\n",
       "      <td>32.000000</td>\n",
       "      <td>41.000000</td>\n",
       "      <td>49.000000</td>\n",
       "    </tr>\n",
       "    <tr>\n",
       "      <th>PlayTimeHours</th>\n",
       "      <td>40034.0</td>\n",
       "      <td>12.024365</td>\n",
       "      <td>6.914638</td>\n",
       "      <td>0.000115</td>\n",
       "      <td>6.067501</td>\n",
       "      <td>12.008002</td>\n",
       "      <td>17.963831</td>\n",
       "      <td>23.999592</td>\n",
       "    </tr>\n",
       "    <tr>\n",
       "      <th>InGamePurchases</th>\n",
       "      <td>40034.0</td>\n",
       "      <td>0.200854</td>\n",
       "      <td>0.400644</td>\n",
       "      <td>0.000000</td>\n",
       "      <td>0.000000</td>\n",
       "      <td>0.000000</td>\n",
       "      <td>0.000000</td>\n",
       "      <td>1.000000</td>\n",
       "    </tr>\n",
       "    <tr>\n",
       "      <th>SessionsPerWeek</th>\n",
       "      <td>40034.0</td>\n",
       "      <td>9.471774</td>\n",
       "      <td>5.763667</td>\n",
       "      <td>0.000000</td>\n",
       "      <td>4.000000</td>\n",
       "      <td>9.000000</td>\n",
       "      <td>14.000000</td>\n",
       "      <td>19.000000</td>\n",
       "    </tr>\n",
       "    <tr>\n",
       "      <th>AvgSessionDurationMinutes</th>\n",
       "      <td>40034.0</td>\n",
       "      <td>94.792252</td>\n",
       "      <td>49.011375</td>\n",
       "      <td>10.000000</td>\n",
       "      <td>52.000000</td>\n",
       "      <td>95.000000</td>\n",
       "      <td>137.000000</td>\n",
       "      <td>179.000000</td>\n",
       "    </tr>\n",
       "    <tr>\n",
       "      <th>PlayerLevel</th>\n",
       "      <td>40034.0</td>\n",
       "      <td>49.655568</td>\n",
       "      <td>28.588379</td>\n",
       "      <td>1.000000</td>\n",
       "      <td>25.000000</td>\n",
       "      <td>49.000000</td>\n",
       "      <td>74.000000</td>\n",
       "      <td>99.000000</td>\n",
       "    </tr>\n",
       "    <tr>\n",
       "      <th>AchievementsUnlocked</th>\n",
       "      <td>40034.0</td>\n",
       "      <td>24.526477</td>\n",
       "      <td>14.430726</td>\n",
       "      <td>0.000000</td>\n",
       "      <td>12.000000</td>\n",
       "      <td>25.000000</td>\n",
       "      <td>37.000000</td>\n",
       "      <td>49.000000</td>\n",
       "    </tr>\n",
       "  </tbody>\n",
       "</table>\n",
       "</div>"
      ],
      "text/plain": [
       "                             count          mean           std          min  \\\n",
       "PlayerID                   40034.0  29016.500000  11556.964675  9000.000000   \n",
       "Age                        40034.0     31.992531     10.043227    15.000000   \n",
       "PlayTimeHours              40034.0     12.024365      6.914638     0.000115   \n",
       "InGamePurchases            40034.0      0.200854      0.400644     0.000000   \n",
       "SessionsPerWeek            40034.0      9.471774      5.763667     0.000000   \n",
       "AvgSessionDurationMinutes  40034.0     94.792252     49.011375    10.000000   \n",
       "PlayerLevel                40034.0     49.655568     28.588379     1.000000   \n",
       "AchievementsUnlocked       40034.0     24.526477     14.430726     0.000000   \n",
       "\n",
       "                                    25%           50%           75%  \\\n",
       "PlayerID                   19008.250000  29016.500000  39024.750000   \n",
       "Age                           23.000000     32.000000     41.000000   \n",
       "PlayTimeHours                  6.067501     12.008002     17.963831   \n",
       "InGamePurchases                0.000000      0.000000      0.000000   \n",
       "SessionsPerWeek                4.000000      9.000000     14.000000   \n",
       "AvgSessionDurationMinutes     52.000000     95.000000    137.000000   \n",
       "PlayerLevel                   25.000000     49.000000     74.000000   \n",
       "AchievementsUnlocked          12.000000     25.000000     37.000000   \n",
       "\n",
       "                                    max  \n",
       "PlayerID                   49033.000000  \n",
       "Age                           49.000000  \n",
       "PlayTimeHours                 23.999592  \n",
       "InGamePurchases                1.000000  \n",
       "SessionsPerWeek               19.000000  \n",
       "AvgSessionDurationMinutes    179.000000  \n",
       "PlayerLevel                   99.000000  \n",
       "AchievementsUnlocked          49.000000  "
      ]
     },
     "execution_count": 4,
     "metadata": {},
     "output_type": "execute_result"
    }
   ],
   "source": [
    "df.describe().T"
   ]
  },
  {
   "cell_type": "code",
   "execution_count": 5,
   "metadata": {
    "id": "aZtpOPo-phU1"
   },
   "outputs": [],
   "source": [
    "import pandas as pd\n",
    "import numpy as np\n",
    "\n",
    "def identify_outliers(df, multiplier=1.5):\n",
    "    numeric_df = df.select_dtypes(include=['number'])\n",
    "\n",
    "    Q1 = numeric_df.quantile(0.25)\n",
    "    Q3 = numeric_df.quantile(0.75)\n",
    "    IQR = Q3 - Q1\n",
    "    lower_bound = Q1 - (multiplier * IQR)\n",
    "    upper_bound = Q3 + (multiplier * IQR)\n",
    "\n",
    "    return ((numeric_df < lower_bound) | (numeric_df > upper_bound)).sum()\n",
    "\n",
    "def count_outliers(df):\n",
    "    return identify_outliers(df).sum()\n"
   ]
  },
  {
   "cell_type": "code",
   "execution_count": 6,
   "metadata": {
    "colab": {
     "base_uri": "https://localhost:8080/",
     "height": 300
    },
    "id": "JR6VFX-wqRYQ",
    "outputId": "326add46-30e2-4fcc-86cc-00ae626fc712"
   },
   "outputs": [
    {
     "data": {
      "text/html": [
       "<div>\n",
       "<style scoped>\n",
       "    .dataframe tbody tr th:only-of-type {\n",
       "        vertical-align: middle;\n",
       "    }\n",
       "\n",
       "    .dataframe tbody tr th {\n",
       "        vertical-align: top;\n",
       "    }\n",
       "\n",
       "    .dataframe thead th {\n",
       "        text-align: right;\n",
       "    }\n",
       "</style>\n",
       "<table border=\"1\" class=\"dataframe\">\n",
       "  <thead>\n",
       "    <tr style=\"text-align: right;\">\n",
       "      <th></th>\n",
       "      <th>PlayerID</th>\n",
       "      <th>Age</th>\n",
       "      <th>PlayTimeHours</th>\n",
       "      <th>InGamePurchases</th>\n",
       "      <th>SessionsPerWeek</th>\n",
       "      <th>AvgSessionDurationMinutes</th>\n",
       "      <th>PlayerLevel</th>\n",
       "      <th>AchievementsUnlocked</th>\n",
       "    </tr>\n",
       "  </thead>\n",
       "  <tbody>\n",
       "    <tr>\n",
       "      <th>PlayerID</th>\n",
       "      <td>1.000000</td>\n",
       "      <td>-0.003044</td>\n",
       "      <td>0.000923</td>\n",
       "      <td>0.002321</td>\n",
       "      <td>-0.005944</td>\n",
       "      <td>-0.001801</td>\n",
       "      <td>-0.001769</td>\n",
       "      <td>0.003190</td>\n",
       "    </tr>\n",
       "    <tr>\n",
       "      <th>Age</th>\n",
       "      <td>-0.003044</td>\n",
       "      <td>1.000000</td>\n",
       "      <td>0.002462</td>\n",
       "      <td>-0.000186</td>\n",
       "      <td>0.008777</td>\n",
       "      <td>-0.002269</td>\n",
       "      <td>0.001353</td>\n",
       "      <td>-0.001100</td>\n",
       "    </tr>\n",
       "    <tr>\n",
       "      <th>PlayTimeHours</th>\n",
       "      <td>0.000923</td>\n",
       "      <td>0.002462</td>\n",
       "      <td>1.000000</td>\n",
       "      <td>-0.006067</td>\n",
       "      <td>-0.003655</td>\n",
       "      <td>-0.001925</td>\n",
       "      <td>-0.005152</td>\n",
       "      <td>0.003913</td>\n",
       "    </tr>\n",
       "    <tr>\n",
       "      <th>InGamePurchases</th>\n",
       "      <td>0.002321</td>\n",
       "      <td>-0.000186</td>\n",
       "      <td>-0.006067</td>\n",
       "      <td>1.000000</td>\n",
       "      <td>0.005132</td>\n",
       "      <td>-0.003059</td>\n",
       "      <td>0.006524</td>\n",
       "      <td>0.000098</td>\n",
       "    </tr>\n",
       "    <tr>\n",
       "      <th>SessionsPerWeek</th>\n",
       "      <td>-0.005944</td>\n",
       "      <td>0.008777</td>\n",
       "      <td>-0.003655</td>\n",
       "      <td>0.005132</td>\n",
       "      <td>1.000000</td>\n",
       "      <td>-0.000620</td>\n",
       "      <td>0.003257</td>\n",
       "      <td>0.003187</td>\n",
       "    </tr>\n",
       "    <tr>\n",
       "      <th>AvgSessionDurationMinutes</th>\n",
       "      <td>-0.001801</td>\n",
       "      <td>-0.002269</td>\n",
       "      <td>-0.001925</td>\n",
       "      <td>-0.003059</td>\n",
       "      <td>-0.000620</td>\n",
       "      <td>1.000000</td>\n",
       "      <td>0.001368</td>\n",
       "      <td>-0.002227</td>\n",
       "    </tr>\n",
       "    <tr>\n",
       "      <th>PlayerLevel</th>\n",
       "      <td>-0.001769</td>\n",
       "      <td>0.001353</td>\n",
       "      <td>-0.005152</td>\n",
       "      <td>0.006524</td>\n",
       "      <td>0.003257</td>\n",
       "      <td>0.001368</td>\n",
       "      <td>1.000000</td>\n",
       "      <td>0.006343</td>\n",
       "    </tr>\n",
       "    <tr>\n",
       "      <th>AchievementsUnlocked</th>\n",
       "      <td>0.003190</td>\n",
       "      <td>-0.001100</td>\n",
       "      <td>0.003913</td>\n",
       "      <td>0.000098</td>\n",
       "      <td>0.003187</td>\n",
       "      <td>-0.002227</td>\n",
       "      <td>0.006343</td>\n",
       "      <td>1.000000</td>\n",
       "    </tr>\n",
       "  </tbody>\n",
       "</table>\n",
       "</div>"
      ],
      "text/plain": [
       "                           PlayerID       Age  PlayTimeHours  InGamePurchases  \\\n",
       "PlayerID                   1.000000 -0.003044       0.000923         0.002321   \n",
       "Age                       -0.003044  1.000000       0.002462        -0.000186   \n",
       "PlayTimeHours              0.000923  0.002462       1.000000        -0.006067   \n",
       "InGamePurchases            0.002321 -0.000186      -0.006067         1.000000   \n",
       "SessionsPerWeek           -0.005944  0.008777      -0.003655         0.005132   \n",
       "AvgSessionDurationMinutes -0.001801 -0.002269      -0.001925        -0.003059   \n",
       "PlayerLevel               -0.001769  0.001353      -0.005152         0.006524   \n",
       "AchievementsUnlocked       0.003190 -0.001100       0.003913         0.000098   \n",
       "\n",
       "                           SessionsPerWeek  AvgSessionDurationMinutes  \\\n",
       "PlayerID                         -0.005944                  -0.001801   \n",
       "Age                               0.008777                  -0.002269   \n",
       "PlayTimeHours                    -0.003655                  -0.001925   \n",
       "InGamePurchases                   0.005132                  -0.003059   \n",
       "SessionsPerWeek                   1.000000                  -0.000620   \n",
       "AvgSessionDurationMinutes        -0.000620                   1.000000   \n",
       "PlayerLevel                       0.003257                   0.001368   \n",
       "AchievementsUnlocked              0.003187                  -0.002227   \n",
       "\n",
       "                           PlayerLevel  AchievementsUnlocked  \n",
       "PlayerID                     -0.001769              0.003190  \n",
       "Age                           0.001353             -0.001100  \n",
       "PlayTimeHours                -0.005152              0.003913  \n",
       "InGamePurchases               0.006524              0.000098  \n",
       "SessionsPerWeek               0.003257              0.003187  \n",
       "AvgSessionDurationMinutes     0.001368             -0.002227  \n",
       "PlayerLevel                   1.000000              0.006343  \n",
       "AchievementsUnlocked          0.006343              1.000000  "
      ]
     },
     "execution_count": 6,
     "metadata": {},
     "output_type": "execute_result"
    }
   ],
   "source": [
    "df.select_dtypes(include=['number']).corr()"
   ]
  },
  {
   "cell_type": "code",
   "execution_count": 7,
   "metadata": {
    "colab": {
     "base_uri": "https://localhost:8080/"
    },
    "id": "YXHzq8drsNwl",
    "outputId": "153918b2-e3c8-4294-874b-f42634f3556d"
   },
   "outputs": [
    {
     "name": "stdout",
     "output_type": "stream",
     "text": [
      "                 chi_square_statistic\n",
      "Gender                    6864.155929\n",
      "Location                 12900.819203\n",
      "GameGenre                26694.030780\n",
      "GameDifficulty           10325.598330\n",
      "EngagementLevel          15587.980963\n"
     ]
    }
   ],
   "source": [
    "from scipy.stats import chisquare\n",
    "\n",
    "# Assuming 'df' is your DataFrame\n",
    "df_c = df.select_dtypes(include=['object']).apply(lambda x: pd.factorize(x)[0] + 1)\n",
    "\n",
    "result = pd.DataFrame([\n",
    "    chisquare(df_c[col].values)[0] for col in df_c.columns\n",
    "], index=df_c.columns, columns=['chi_square_statistic'])\n",
    "\n",
    "print(result)"
   ]
  },
  {
   "cell_type": "markdown",
   "metadata": {
    "id": "RzgFSIXTkeqJ"
   },
   "source": [
    "# Dividing the Original Data"
   ]
  },
  {
   "cell_type": "code",
   "execution_count": 3,
   "metadata": {
    "id": "8j1iuajFkjzc"
   },
   "outputs": [],
   "source": [
    "from sklearn.utils import shuffle\n",
    "df = shuffle(df)"
   ]
  },
  {
   "cell_type": "code",
   "execution_count": 4,
   "metadata": {
    "id": "VFRRl4oqk9WL"
   },
   "outputs": [],
   "source": [
    "Seed =df[0:int(df.shape[0]/2)]\n",
    "Hold_out =df[int(df.shape[0]/2):]"
   ]
  },
  {
   "cell_type": "markdown",
   "metadata": {
    "id": "Z_3fPAahkPzA"
   },
   "source": [
    "# Synthetic Data with GAN\n",
    "\n"
   ]
  },
  {
   "cell_type": "code",
   "execution_count": 1,
   "metadata": {
    "colab": {
     "base_uri": "https://localhost:8080/"
    },
    "id": "tz5SRO7MlSlA",
    "outputId": "47d2d1c7-fc51-46e8-d25d-ff58ef0407b7"
   },
   "outputs": [
    {
     "name": "stdout",
     "output_type": "stream",
     "text": [
      "Defaulting to user installation because normal site-packages is not writeable\n",
      "Requirement already satisfied: ctgan in ./.local/lib/python3.10/site-packages (0.10.1)\n",
      "Requirement already satisfied: tqdm<5,>=4.29 in ./.local/lib/python3.10/site-packages (from ctgan) (4.66.5)\n",
      "Requirement already satisfied: rdt>=1.11.0 in ./.local/lib/python3.10/site-packages (from ctgan) (1.12.2)\n",
      "Requirement already satisfied: pandas>=1.4.0 in /share/pkg.8/python3/3.10.12/install/lib/python3.10/site-packages (from ctgan) (2.0.3)\n",
      "Requirement already satisfied: torch>=1.11.0 in ./.local/lib/python3.10/site-packages (from ctgan) (2.4.0)\n",
      "Requirement already satisfied: numpy<2,>=1.23.3 in /share/pkg.8/python3/3.10.12/install/lib/python3.10/site-packages (from ctgan) (1.24.4)\n",
      "Requirement already satisfied: python-dateutil>=2.8.2 in /share/pkg.8/python3/3.10.12/install/lib/python3.10/site-packages (from pandas>=1.4.0->ctgan) (2.8.2)\n",
      "Requirement already satisfied: pytz>=2020.1 in /share/pkg.8/python3/3.10.12/install/lib/python3.10/site-packages (from pandas>=1.4.0->ctgan) (2023.3)\n",
      "Requirement already satisfied: tzdata>=2022.1 in /share/pkg.8/python3/3.10.12/install/lib/python3.10/site-packages (from pandas>=1.4.0->ctgan) (2023.3)\n",
      "Requirement already satisfied: Faker>=17 in ./.local/lib/python3.10/site-packages (from rdt>=1.11.0->ctgan) (26.3.0)\n",
      "Requirement already satisfied: scikit-learn>=1.1.0 in /share/pkg.8/python3/3.10.12/install/lib/python3.10/site-packages (from rdt>=1.11.0->ctgan) (1.3.0)\n",
      "Requirement already satisfied: scipy>=1.9.2 in /share/pkg.8/python3/3.10.12/install/lib/python3.10/site-packages (from rdt>=1.11.0->ctgan) (1.11.1)\n",
      "Requirement already satisfied: filelock in /share/pkg.8/python3/3.10.12/install/lib/python3.10/site-packages (from torch>=1.11.0->ctgan) (3.12.2)\n",
      "Requirement already satisfied: typing-extensions>=4.8.0 in ./.local/lib/python3.10/site-packages (from torch>=1.11.0->ctgan) (4.12.2)\n",
      "Requirement already satisfied: sympy in /share/pkg.8/python3/3.10.12/install/lib/python3.10/site-packages (from torch>=1.11.0->ctgan) (1.12)\n",
      "Requirement already satisfied: networkx in /share/pkg.8/python3/3.10.12/install/lib/python3.10/site-packages (from torch>=1.11.0->ctgan) (3.1)\n",
      "Requirement already satisfied: jinja2 in /share/pkg.8/python3/3.10.12/install/lib/python3.10/site-packages (from torch>=1.11.0->ctgan) (3.1.2)\n",
      "Requirement already satisfied: fsspec in /share/pkg.8/python3/3.10.12/install/lib/python3.10/site-packages (from torch>=1.11.0->ctgan) (2023.6.0)\n",
      "Requirement already satisfied: nvidia-cuda-nvrtc-cu12==12.1.105 in ./.local/lib/python3.10/site-packages (from torch>=1.11.0->ctgan) (12.1.105)\n",
      "Requirement already satisfied: nvidia-cuda-runtime-cu12==12.1.105 in ./.local/lib/python3.10/site-packages (from torch>=1.11.0->ctgan) (12.1.105)\n",
      "Requirement already satisfied: nvidia-cuda-cupti-cu12==12.1.105 in ./.local/lib/python3.10/site-packages (from torch>=1.11.0->ctgan) (12.1.105)\n",
      "Requirement already satisfied: nvidia-cudnn-cu12==9.1.0.70 in ./.local/lib/python3.10/site-packages (from torch>=1.11.0->ctgan) (9.1.0.70)\n",
      "Requirement already satisfied: nvidia-cublas-cu12==12.1.3.1 in ./.local/lib/python3.10/site-packages (from torch>=1.11.0->ctgan) (12.1.3.1)\n",
      "Requirement already satisfied: nvidia-cufft-cu12==11.0.2.54 in ./.local/lib/python3.10/site-packages (from torch>=1.11.0->ctgan) (11.0.2.54)\n",
      "Requirement already satisfied: nvidia-curand-cu12==10.3.2.106 in ./.local/lib/python3.10/site-packages (from torch>=1.11.0->ctgan) (10.3.2.106)\n",
      "Requirement already satisfied: nvidia-cusolver-cu12==11.4.5.107 in ./.local/lib/python3.10/site-packages (from torch>=1.11.0->ctgan) (11.4.5.107)\n",
      "Requirement already satisfied: nvidia-cusparse-cu12==12.1.0.106 in ./.local/lib/python3.10/site-packages (from torch>=1.11.0->ctgan) (12.1.0.106)\n",
      "Requirement already satisfied: nvidia-nccl-cu12==2.20.5 in ./.local/lib/python3.10/site-packages (from torch>=1.11.0->ctgan) (2.20.5)\n",
      "Requirement already satisfied: nvidia-nvtx-cu12==12.1.105 in ./.local/lib/python3.10/site-packages (from torch>=1.11.0->ctgan) (12.1.105)\n",
      "Requirement already satisfied: triton==3.0.0 in ./.local/lib/python3.10/site-packages (from torch>=1.11.0->ctgan) (3.0.0)\n",
      "Requirement already satisfied: nvidia-nvjitlink-cu12 in ./.local/lib/python3.10/site-packages (from nvidia-cusolver-cu12==11.4.5.107->torch>=1.11.0->ctgan) (12.6.20)\n",
      "Requirement already satisfied: six>=1.5 in /share/pkg.8/python3/3.10.12/install/lib/python3.10/site-packages (from python-dateutil>=2.8.2->pandas>=1.4.0->ctgan) (1.16.0)\n",
      "Requirement already satisfied: joblib>=1.1.1 in /share/pkg.8/python3/3.10.12/install/lib/python3.10/site-packages (from scikit-learn>=1.1.0->rdt>=1.11.0->ctgan) (1.3.1)\n",
      "Requirement already satisfied: threadpoolctl>=2.0.0 in /share/pkg.8/python3/3.10.12/install/lib/python3.10/site-packages (from scikit-learn>=1.1.0->rdt>=1.11.0->ctgan) (3.2.0)\n",
      "Requirement already satisfied: MarkupSafe>=2.0 in /share/pkg.8/python3/3.10.12/install/lib/python3.10/site-packages (from jinja2->torch>=1.11.0->ctgan) (2.1.3)\n",
      "Requirement already satisfied: mpmath>=0.19 in /share/pkg.8/python3/3.10.12/install/lib/python3.10/site-packages (from sympy->torch>=1.11.0->ctgan) (1.3.0)\n",
      "\n",
      "\u001b[1m[\u001b[0m\u001b[34;49mnotice\u001b[0m\u001b[1;39;49m]\u001b[0m\u001b[39;49m A new release of pip is available: \u001b[0m\u001b[31;49m23.2.1\u001b[0m\u001b[39;49m -> \u001b[0m\u001b[32;49m24.2\u001b[0m\n",
      "\u001b[1m[\u001b[0m\u001b[34;49mnotice\u001b[0m\u001b[1;39;49m]\u001b[0m\u001b[39;49m To update, run: \u001b[0m\u001b[32;49mpip install --upgrade pip\u001b[0m\n",
      "Note: you may need to restart the kernel to use updated packages.\n"
     ]
    }
   ],
   "source": [
    "pip install ctgan"
   ]
  },
  {
   "cell_type": "code",
   "execution_count": 11,
   "metadata": {
    "id": "NIRx2xkZpFrM"
   },
   "outputs": [],
   "source": [
    "from ctgan import CTGAN"
   ]
  },
  {
   "cell_type": "markdown",
   "metadata": {
    "id": "KWoAvclPstbK"
   },
   "source": [
    "Making sure the data types are accepted input"
   ]
  },
  {
   "cell_type": "code",
   "execution_count": 12,
   "metadata": {
    "id": "Rqqf_mbUp0Fy"
   },
   "outputs": [],
   "source": [
    "for i in df.columns:\n",
    "  if df[i].dtype=='object':\n",
    "    df[i] = df[i].astype('category')\n",
    "  elif df[i].dtype=='int64':\n",
    "    df[i] = df[i].astype('float64')"
   ]
  },
  {
   "cell_type": "code",
   "execution_count": 1,
   "metadata": {
    "colab": {
     "base_uri": "https://localhost:8080/"
    },
    "id": "eRtTfrb-sxqY",
    "outputId": "55769c69-6f96-491f-a5b2-4a80aa214c54"
   },
   "outputs": [
    {
     "ename": "NameError",
     "evalue": "name 'Seed' is not defined",
     "output_type": "error",
     "traceback": [
      "\u001b[0;31m---------------------------------------------------------------------------\u001b[0m",
      "\u001b[0;31mNameError\u001b[0m                                 Traceback (most recent call last)",
      "Cell \u001b[0;32mIn[1], line 2\u001b[0m\n\u001b[1;32m      1\u001b[0m \u001b[38;5;66;03m# Step 1: Identify categorical columns\u001b[39;00m\n\u001b[0;32m----> 2\u001b[0m categorical_columns \u001b[38;5;241m=\u001b[39m \u001b[43mSeed\u001b[49m\u001b[38;5;241m.\u001b[39mselect_dtypes(include\u001b[38;5;241m=\u001b[39m[\u001b[38;5;124m'\u001b[39m\u001b[38;5;124mobject\u001b[39m\u001b[38;5;124m'\u001b[39m, \u001b[38;5;124m'\u001b[39m\u001b[38;5;124mcategory\u001b[39m\u001b[38;5;124m'\u001b[39m])\u001b[38;5;241m.\u001b[39mcolumns\u001b[38;5;241m.\u001b[39mtolist()\n\u001b[1;32m      4\u001b[0m \u001b[38;5;66;03m# Step 2: Initialize the CTGAN model\u001b[39;00m\n\u001b[1;32m      5\u001b[0m ctgan \u001b[38;5;241m=\u001b[39m CTGAN()\n",
      "\u001b[0;31mNameError\u001b[0m: name 'Seed' is not defined"
     ]
    }
   ],
   "source": [
    "# Step 1: Identify categorical columns\n",
    "categorical_columns = Seed.select_dtypes(include=['object', 'category']).columns.tolist()\n",
    "\n",
    "# Step 2: Initialize the CTGAN model\n",
    "ctgan = CTGAN()\n",
    "\n",
    "# Step 3: Fit the CTGAN model to the data\n",
    "ctgan.fit(Seed, discrete_columns=categorical_columns)\n",
    "\n",
    "# Step 4: Generate synthetic data\n",
    "synthetic_data = ctgan.sample(len(Seed))"
   ]
  },
  {
   "cell_type": "code",
   "execution_count": null,
   "metadata": {
    "id": "6lOC8ZTs171X"
   },
   "outputs": [],
   "source": [
    "synthetic_data_GAN = pd.DataFrame(synthetic_data)"
   ]
  },
  {
   "cell_type": "code",
   "execution_count": null,
   "metadata": {},
   "outputs": [],
   "source": [
    "synthetic_data_GAN.to_csv('Synthetic_Data_GAN.cw')"
   ]
  },
  {
   "cell_type": "markdown",
   "metadata": {
    "id": "eCw-GJ7x2jYN"
   },
   "source": [
    "# Synthetic Data With Transformer"
   ]
  },
  {
   "cell_type": "code",
   "execution_count": null,
   "metadata": {
    "colab": {
     "base_uri": "https://localhost:8080/"
    },
    "id": "3mDpGsH62o5R",
    "outputId": "eb271ad9-0abd-4135-861e-380bb8d0abd4"
   },
   "outputs": [
    {
     "name": "stdout",
     "output_type": "stream",
     "text": [
      "Defaulting to user installation because normal site-packages is not writeable\n",
      "Requirement already satisfied: realtabformer in ./.local/lib/python3.10/site-packages (0.1.7)\n",
      "Requirement already satisfied: accelerate>=0.20.3 in ./.local/lib/python3.10/site-packages (from realtabformer) (0.33.0)\n",
      "Requirement already satisfied: datasets>=2.6.1 in ./.local/lib/python3.10/site-packages (from realtabformer) (2.20.0)\n",
      "Requirement already satisfied: numpy>=1.21.6 in /share/pkg.8/python3/3.10.12/install/lib/python3.10/site-packages (from realtabformer) (1.24.4)\n",
      "Requirement already satisfied: pandas>=1.3.5 in /share/pkg.8/python3/3.10.12/install/lib/python3.10/site-packages (from realtabformer) (2.0.3)\n",
      "Requirement already satisfied: scikit-learn>=1.0.2 in /share/pkg.8/python3/3.10.12/install/lib/python3.10/site-packages (from realtabformer) (1.3.0)\n",
      "Requirement already satisfied: torch>=1.13.0 in ./.local/lib/python3.10/site-packages (from realtabformer) (2.4.0)\n",
      "Requirement already satisfied: tqdm>=4.64.1 in ./.local/lib/python3.10/site-packages (from realtabformer) (4.66.5)\n",
      "Requirement already satisfied: transformers>=4.24.0 in ./.local/lib/python3.10/site-packages (from realtabformer) (4.44.0)\n",
      "Requirement already satisfied: shapely>=1.8.5.post1 in /share/pkg.8/python3/3.10.12/install/lib/python3.10/site-packages (from realtabformer) (2.0.1)\n",
      "Requirement already satisfied: packaging>=20.0 in /share/pkg.8/python3/3.10.12/install/lib/python3.10/site-packages (from accelerate>=0.20.3->realtabformer) (23.1)\n",
      "Requirement already satisfied: psutil in /share/pkg.8/python3/3.10.12/install/lib/python3.10/site-packages (from accelerate>=0.20.3->realtabformer) (5.9.5)\n",
      "Requirement already satisfied: pyyaml in /share/pkg.8/python3/3.10.12/install/lib/python3.10/site-packages (from accelerate>=0.20.3->realtabformer) (6.0)\n",
      "Requirement already satisfied: huggingface-hub>=0.21.0 in ./.local/lib/python3.10/site-packages (from accelerate>=0.20.3->realtabformer) (0.24.5)\n",
      "Requirement already satisfied: safetensors>=0.3.1 in ./.local/lib/python3.10/site-packages (from accelerate>=0.20.3->realtabformer) (0.4.4)\n",
      "Requirement already satisfied: filelock in /share/pkg.8/python3/3.10.12/install/lib/python3.10/site-packages (from datasets>=2.6.1->realtabformer) (3.12.2)\n",
      "Requirement already satisfied: pyarrow>=15.0.0 in ./.local/lib/python3.10/site-packages (from datasets>=2.6.1->realtabformer) (17.0.0)\n",
      "Requirement already satisfied: pyarrow-hotfix in ./.local/lib/python3.10/site-packages (from datasets>=2.6.1->realtabformer) (0.6)\n",
      "Requirement already satisfied: dill<0.3.9,>=0.3.0 in /share/pkg.8/python3/3.10.12/install/lib/python3.10/site-packages (from datasets>=2.6.1->realtabformer) (0.3.6)\n",
      "Requirement already satisfied: requests>=2.32.2 in ./.local/lib/python3.10/site-packages (from datasets>=2.6.1->realtabformer) (2.32.3)\n",
      "Requirement already satisfied: xxhash in ./.local/lib/python3.10/site-packages (from datasets>=2.6.1->realtabformer) (3.4.1)\n",
      "Requirement already satisfied: multiprocess in /share/pkg.8/python3/3.10.12/install/lib/python3.10/site-packages (from datasets>=2.6.1->realtabformer) (0.70.14)\n",
      "Requirement already satisfied: fsspec[http]<=2024.5.0,>=2023.1.0 in /share/pkg.8/python3/3.10.12/install/lib/python3.10/site-packages (from datasets>=2.6.1->realtabformer) (2023.6.0)\n",
      "Requirement already satisfied: aiohttp in /share/pkg.8/python3/3.10.12/install/lib/python3.10/site-packages (from datasets>=2.6.1->realtabformer) (3.8.4)\n",
      "Requirement already satisfied: python-dateutil>=2.8.2 in /share/pkg.8/python3/3.10.12/install/lib/python3.10/site-packages (from pandas>=1.3.5->realtabformer) (2.8.2)\n",
      "Requirement already satisfied: pytz>=2020.1 in /share/pkg.8/python3/3.10.12/install/lib/python3.10/site-packages (from pandas>=1.3.5->realtabformer) (2023.3)\n",
      "Requirement already satisfied: tzdata>=2022.1 in /share/pkg.8/python3/3.10.12/install/lib/python3.10/site-packages (from pandas>=1.3.5->realtabformer) (2023.3)\n",
      "Requirement already satisfied: scipy>=1.5.0 in /share/pkg.8/python3/3.10.12/install/lib/python3.10/site-packages (from scikit-learn>=1.0.2->realtabformer) (1.11.1)\n",
      "Requirement already satisfied: joblib>=1.1.1 in /share/pkg.8/python3/3.10.12/install/lib/python3.10/site-packages (from scikit-learn>=1.0.2->realtabformer) (1.3.1)\n",
      "Requirement already satisfied: threadpoolctl>=2.0.0 in /share/pkg.8/python3/3.10.12/install/lib/python3.10/site-packages (from scikit-learn>=1.0.2->realtabformer) (3.2.0)\n",
      "Requirement already satisfied: typing-extensions>=4.8.0 in ./.local/lib/python3.10/site-packages (from torch>=1.13.0->realtabformer) (4.12.2)\n",
      "Requirement already satisfied: sympy in /share/pkg.8/python3/3.10.12/install/lib/python3.10/site-packages (from torch>=1.13.0->realtabformer) (1.12)\n",
      "Requirement already satisfied: networkx in /share/pkg.8/python3/3.10.12/install/lib/python3.10/site-packages (from torch>=1.13.0->realtabformer) (3.1)\n",
      "Requirement already satisfied: jinja2 in /share/pkg.8/python3/3.10.12/install/lib/python3.10/site-packages (from torch>=1.13.0->realtabformer) (3.1.2)\n",
      "Requirement already satisfied: nvidia-cuda-nvrtc-cu12==12.1.105 in ./.local/lib/python3.10/site-packages (from torch>=1.13.0->realtabformer) (12.1.105)\n",
      "Requirement already satisfied: nvidia-cuda-runtime-cu12==12.1.105 in ./.local/lib/python3.10/site-packages (from torch>=1.13.0->realtabformer) (12.1.105)\n",
      "Requirement already satisfied: nvidia-cuda-cupti-cu12==12.1.105 in ./.local/lib/python3.10/site-packages (from torch>=1.13.0->realtabformer) (12.1.105)\n",
      "Requirement already satisfied: nvidia-cudnn-cu12==9.1.0.70 in ./.local/lib/python3.10/site-packages (from torch>=1.13.0->realtabformer) (9.1.0.70)\n",
      "Requirement already satisfied: nvidia-cublas-cu12==12.1.3.1 in ./.local/lib/python3.10/site-packages (from torch>=1.13.0->realtabformer) (12.1.3.1)\n",
      "Requirement already satisfied: nvidia-cufft-cu12==11.0.2.54 in ./.local/lib/python3.10/site-packages (from torch>=1.13.0->realtabformer) (11.0.2.54)\n",
      "Requirement already satisfied: nvidia-curand-cu12==10.3.2.106 in ./.local/lib/python3.10/site-packages (from torch>=1.13.0->realtabformer) (10.3.2.106)\n",
      "Requirement already satisfied: nvidia-cusolver-cu12==11.4.5.107 in ./.local/lib/python3.10/site-packages (from torch>=1.13.0->realtabformer) (11.4.5.107)\n",
      "Requirement already satisfied: nvidia-cusparse-cu12==12.1.0.106 in ./.local/lib/python3.10/site-packages (from torch>=1.13.0->realtabformer) (12.1.0.106)\n",
      "Requirement already satisfied: nvidia-nccl-cu12==2.20.5 in ./.local/lib/python3.10/site-packages (from torch>=1.13.0->realtabformer) (2.20.5)\n",
      "Requirement already satisfied: nvidia-nvtx-cu12==12.1.105 in ./.local/lib/python3.10/site-packages (from torch>=1.13.0->realtabformer) (12.1.105)\n",
      "Requirement already satisfied: triton==3.0.0 in ./.local/lib/python3.10/site-packages (from torch>=1.13.0->realtabformer) (3.0.0)\n",
      "Requirement already satisfied: nvidia-nvjitlink-cu12 in ./.local/lib/python3.10/site-packages (from nvidia-cusolver-cu12==11.4.5.107->torch>=1.13.0->realtabformer) (12.6.20)\n",
      "Requirement already satisfied: regex!=2019.12.17 in /share/pkg.8/python3/3.10.12/install/lib/python3.10/site-packages (from transformers>=4.24.0->realtabformer) (2023.6.3)\n",
      "Requirement already satisfied: tokenizers<0.20,>=0.19 in ./.local/lib/python3.10/site-packages (from transformers>=4.24.0->realtabformer) (0.19.1)\n",
      "Requirement already satisfied: attrs>=17.3.0 in /share/pkg.8/python3/3.10.12/install/lib/python3.10/site-packages (from aiohttp->datasets>=2.6.1->realtabformer) (23.1.0)\n",
      "Requirement already satisfied: charset-normalizer<4.0,>=2.0 in /share/pkg.8/python3/3.10.12/install/lib/python3.10/site-packages (from aiohttp->datasets>=2.6.1->realtabformer) (3.2.0)\n",
      "Requirement already satisfied: multidict<7.0,>=4.5 in /share/pkg.8/python3/3.10.12/install/lib/python3.10/site-packages (from aiohttp->datasets>=2.6.1->realtabformer) (6.0.4)\n",
      "Requirement already satisfied: async-timeout<5.0,>=4.0.0a3 in /share/pkg.8/python3/3.10.12/install/lib/python3.10/site-packages (from aiohttp->datasets>=2.6.1->realtabformer) (4.0.2)\n",
      "Requirement already satisfied: yarl<2.0,>=1.0 in /share/pkg.8/python3/3.10.12/install/lib/python3.10/site-packages (from aiohttp->datasets>=2.6.1->realtabformer) (1.9.2)\n",
      "Requirement already satisfied: frozenlist>=1.1.1 in /share/pkg.8/python3/3.10.12/install/lib/python3.10/site-packages (from aiohttp->datasets>=2.6.1->realtabformer) (1.4.0)\n",
      "Requirement already satisfied: aiosignal>=1.1.2 in /share/pkg.8/python3/3.10.12/install/lib/python3.10/site-packages (from aiohttp->datasets>=2.6.1->realtabformer) (1.3.1)\n",
      "Requirement already satisfied: six>=1.5 in /share/pkg.8/python3/3.10.12/install/lib/python3.10/site-packages (from python-dateutil>=2.8.2->pandas>=1.3.5->realtabformer) (1.16.0)\n",
      "Requirement already satisfied: idna<4,>=2.5 in /share/pkg.8/python3/3.10.12/install/lib/python3.10/site-packages (from requests>=2.32.2->datasets>=2.6.1->realtabformer) (3.4)\n",
      "Requirement already satisfied: urllib3<3,>=1.21.1 in /share/pkg.8/python3/3.10.12/install/lib/python3.10/site-packages (from requests>=2.32.2->datasets>=2.6.1->realtabformer) (1.26.16)\n",
      "Requirement already satisfied: certifi>=2017.4.17 in /share/pkg.8/python3/3.10.12/install/lib/python3.10/site-packages (from requests>=2.32.2->datasets>=2.6.1->realtabformer) (2023.5.7)\n",
      "Requirement already satisfied: MarkupSafe>=2.0 in /share/pkg.8/python3/3.10.12/install/lib/python3.10/site-packages (from jinja2->torch>=1.13.0->realtabformer) (2.1.3)\n",
      "Requirement already satisfied: mpmath>=0.19 in /share/pkg.8/python3/3.10.12/install/lib/python3.10/site-packages (from sympy->torch>=1.13.0->realtabformer) (1.3.0)\n"
     ]
    }
   ],
   "source": [
    "pip install realtabformer"
   ]
  },
  {
   "cell_type": "code",
   "execution_count": null,
   "metadata": {
    "id": "coWtcq6y3TE7"
   },
   "outputs": [],
   "source": [
    "from realtabformer import REaLTabFormer"
   ]
  },
  {
   "cell_type": "code",
   "execution_count": null,
   "metadata": {},
   "outputs": [],
   "source": [
    "import torch\n",
    "import subprocess\n",
    "\n",
    "def get_cuda_version():\n",
    "    try:\n",
    "        output = subprocess.check_output(['nvidia-smi', '--query-gpu=driver_version,cuda_version', '--format=csv,noheader'])\n",
    "        output = output.decode('utf-8').strip().split(',')\n",
    "        return output[0], output[1]\n",
    "    except:\n",
    "        return \"N/A\", \"N/A\"\n",
    "\n",
    "def main():\n",
    "    print(\"Checking CUDA and PyTorch compatibility...\")\n",
    "    \n",
    "    # Check CUDA version\n",
    "    driver_version, cuda_version = get_cuda_version()\n",
    "    print(f\"NVIDIA Driver Version: {driver_version}\")\n",
    "    print(f\"CUDA Version: {cuda_version}\")\n",
    "\n",
    "    # Check PyTorch version\n",
    "    print(f\"PyTorch Version: {torch.__version__}\")\n",
    "    print(f\"PyTorch CUDA Version: {torch.version.cuda}\")\n",
    "\n",
    "    # Check CUDA availability\n",
    "    cuda_available = torch.cuda.is_available()\n",
    "    print(f\"CUDA Available: {cuda_available}\")\n",
    "\n",
    "    if cuda_available:\n",
    "        print(f\"Current CUDA Device: {torch.cuda.get_device_name(0)}\")\n",
    "    else:\n",
    "        print(\"CUDA is not available. Please check your installation.\")\n",
    "\n",
    "    print(\"\\nNOTE: Ensure that the CUDA version reported by PyTorch is compatible with your installed CUDA version.\")\n",
    "    print(\"If they don't match, you may need to reinstall PyTorch with the correct CUDA version.\")\n",
    "\n",
    "if __name__ == \"__main__\":\n",
    "    main()"
   ]
  },
  {
   "cell_type": "code",
   "execution_count": null,
   "metadata": {
    "id": "86XyhTVR3aAQ"
   },
   "outputs": [],
   "source": [
    "\n",
    "\n",
    "# Load your dataset\n",
    "# Preprocess the data\n",
    "# Ensure to remove or anonymize any unique identifiers or sensitive information\n",
    "# that you don't want to be modeled.\n",
    "\n",
    "# Initialize the REaLTabFormer model\n",
    "rtf_model = REaLTabFormer(\n",
    "    model_type=\"tabular\",\n",
    "    gradient_accumulation_steps=1,\n",
    "    logging_steps=500,\n",
    "    batch_size=32            # Frequency of logging\n",
    "    # Use GPU if available\n",
    ")\n",
    "\n",
    "# Train the model\n",
    "rtf_model.fit(Seed)\n",
    "\n",
    "# Generate synthetic data\n",
    "synthetic_data = rtf_model.sample(n_samples=len(Seed))\n",
    "\n",
    "# Save or use the synthetic data\n",
    "synthetic_data.to_csv(\"synthetic_data_TF_new.csv\", index=False)"
   ]
  },
  {
   "cell_type": "markdown",
   "metadata": {
    "id": "5mqH-UHj-f90"
   },
   "source": [
    "\n",
    "\n",
    "\n",
    "\n",
    "\n",
    "\n",
    "\n",
    "\n",
    "\n"
   ]
  }
 ],
 "metadata": {
  "accelerator": "GPU",
  "colab": {
   "gpuType": "T4",
   "provenance": []
  },
  "kernelspec": {
   "display_name": "Python 3 (ipykernel)",
   "language": "python",
   "name": "python3"
  },
  "language_info": {
   "codemirror_mode": {
    "name": "ipython",
    "version": 3
   },
   "file_extension": ".py",
   "mimetype": "text/x-python",
   "name": "python",
   "nbconvert_exporter": "python",
   "pygments_lexer": "ipython3",
   "version": "3.10.12"
  },
  "widgets": {
   "application/vnd.jupyter.widget-state+json": {
    "0a4e93c4c7774ef886d7c364600cf6e5": {
     "model_module": "@jupyter-widgets/base",
     "model_module_version": "1.2.0",
     "model_name": "LayoutModel",
     "state": {
      "_model_module": "@jupyter-widgets/base",
      "_model_module_version": "1.2.0",
      "_model_name": "LayoutModel",
      "_view_count": null,
      "_view_module": "@jupyter-widgets/base",
      "_view_module_version": "1.2.0",
      "_view_name": "LayoutView",
      "align_content": null,
      "align_items": null,
      "align_self": null,
      "border": null,
      "bottom": null,
      "display": null,
      "flex": null,
      "flex_flow": null,
      "grid_area": null,
      "grid_auto_columns": null,
      "grid_auto_flow": null,
      "grid_auto_rows": null,
      "grid_column": null,
      "grid_gap": null,
      "grid_row": null,
      "grid_template_areas": null,
      "grid_template_columns": null,
      "grid_template_rows": null,
      "height": null,
      "justify_content": null,
      "justify_items": null,
      "left": null,
      "margin": null,
      "max_height": null,
      "max_width": null,
      "min_height": null,
      "min_width": null,
      "object_fit": null,
      "object_position": null,
      "order": null,
      "overflow": null,
      "overflow_x": null,
      "overflow_y": null,
      "padding": null,
      "right": null,
      "top": null,
      "visibility": null,
      "width": null
     }
    },
    "0bc0adac8f65491abff1211a07711c9f": {
     "model_module": "@jupyter-widgets/base",
     "model_module_version": "1.2.0",
     "model_name": "LayoutModel",
     "state": {
      "_model_module": "@jupyter-widgets/base",
      "_model_module_version": "1.2.0",
      "_model_name": "LayoutModel",
      "_view_count": null,
      "_view_module": "@jupyter-widgets/base",
      "_view_module_version": "1.2.0",
      "_view_name": "LayoutView",
      "align_content": null,
      "align_items": null,
      "align_self": null,
      "border": null,
      "bottom": null,
      "display": null,
      "flex": null,
      "flex_flow": null,
      "grid_area": null,
      "grid_auto_columns": null,
      "grid_auto_flow": null,
      "grid_auto_rows": null,
      "grid_column": null,
      "grid_gap": null,
      "grid_row": null,
      "grid_template_areas": null,
      "grid_template_columns": null,
      "grid_template_rows": null,
      "height": null,
      "justify_content": null,
      "justify_items": null,
      "left": null,
      "margin": null,
      "max_height": null,
      "max_width": null,
      "min_height": null,
      "min_width": null,
      "object_fit": null,
      "object_position": null,
      "order": null,
      "overflow": null,
      "overflow_x": null,
      "overflow_y": null,
      "padding": null,
      "right": null,
      "top": null,
      "visibility": null,
      "width": null
     }
    },
    "1df2147812254a82a1d5db706f1d4dd6": {
     "model_module": "@jupyter-widgets/base",
     "model_module_version": "1.2.0",
     "model_name": "LayoutModel",
     "state": {
      "_model_module": "@jupyter-widgets/base",
      "_model_module_version": "1.2.0",
      "_model_name": "LayoutModel",
      "_view_count": null,
      "_view_module": "@jupyter-widgets/base",
      "_view_module_version": "1.2.0",
      "_view_name": "LayoutView",
      "align_content": null,
      "align_items": null,
      "align_self": null,
      "border": null,
      "bottom": null,
      "display": null,
      "flex": null,
      "flex_flow": null,
      "grid_area": null,
      "grid_auto_columns": null,
      "grid_auto_flow": null,
      "grid_auto_rows": null,
      "grid_column": null,
      "grid_gap": null,
      "grid_row": null,
      "grid_template_areas": null,
      "grid_template_columns": null,
      "grid_template_rows": null,
      "height": null,
      "justify_content": null,
      "justify_items": null,
      "left": null,
      "margin": null,
      "max_height": null,
      "max_width": null,
      "min_height": null,
      "min_width": null,
      "object_fit": null,
      "object_position": null,
      "order": null,
      "overflow": null,
      "overflow_x": null,
      "overflow_y": null,
      "padding": null,
      "right": null,
      "top": null,
      "visibility": null,
      "width": null
     }
    },
    "2db0fd346d774381846ccfd4b8a8a914": {
     "model_module": "@jupyter-widgets/controls",
     "model_module_version": "1.5.0",
     "model_name": "DescriptionStyleModel",
     "state": {
      "_model_module": "@jupyter-widgets/controls",
      "_model_module_version": "1.5.0",
      "_model_name": "DescriptionStyleModel",
      "_view_count": null,
      "_view_module": "@jupyter-widgets/base",
      "_view_module_version": "1.2.0",
      "_view_name": "StyleView",
      "description_width": ""
     }
    },
    "31b434ae0cef4a7eb7b307ec4a57f47f": {
     "model_module": "@jupyter-widgets/controls",
     "model_module_version": "1.5.0",
     "model_name": "HTMLModel",
     "state": {
      "_dom_classes": [],
      "_model_module": "@jupyter-widgets/controls",
      "_model_module_version": "1.5.0",
      "_model_name": "HTMLModel",
      "_view_count": null,
      "_view_module": "@jupyter-widgets/controls",
      "_view_module_version": "1.5.0",
      "_view_name": "HTMLView",
      "description": "",
      "description_tooltip": null,
      "layout": "IPY_MODEL_0bc0adac8f65491abff1211a07711c9f",
      "placeholder": "​",
      "style": "IPY_MODEL_99450a9732f14f359a9f3c62e6ef1382",
      "value": " 500/500 [09:28&lt;00:00,  1.03it/s]"
     }
    },
    "346869d7229445faad402937afce01c6": {
     "model_module": "@jupyter-widgets/base",
     "model_module_version": "1.2.0",
     "model_name": "LayoutModel",
     "state": {
      "_model_module": "@jupyter-widgets/base",
      "_model_module_version": "1.2.0",
      "_model_name": "LayoutModel",
      "_view_count": null,
      "_view_module": "@jupyter-widgets/base",
      "_view_module_version": "1.2.0",
      "_view_name": "LayoutView",
      "align_content": null,
      "align_items": null,
      "align_self": null,
      "border": null,
      "bottom": null,
      "display": null,
      "flex": null,
      "flex_flow": null,
      "grid_area": null,
      "grid_auto_columns": null,
      "grid_auto_flow": null,
      "grid_auto_rows": null,
      "grid_column": null,
      "grid_gap": null,
      "grid_row": null,
      "grid_template_areas": null,
      "grid_template_columns": null,
      "grid_template_rows": null,
      "height": null,
      "justify_content": null,
      "justify_items": null,
      "left": null,
      "margin": null,
      "max_height": null,
      "max_width": null,
      "min_height": null,
      "min_width": null,
      "object_fit": null,
      "object_position": null,
      "order": null,
      "overflow": null,
      "overflow_x": null,
      "overflow_y": null,
      "padding": null,
      "right": null,
      "top": null,
      "visibility": null,
      "width": null
     }
    },
    "4a5200b97d014a4d92941e2aef211a03": {
     "model_module": "@jupyter-widgets/controls",
     "model_module_version": "1.5.0",
     "model_name": "HTMLModel",
     "state": {
      "_dom_classes": [],
      "_model_module": "@jupyter-widgets/controls",
      "_model_module_version": "1.5.0",
      "_model_name": "HTMLModel",
      "_view_count": null,
      "_view_module": "@jupyter-widgets/controls",
      "_view_module_version": "1.5.0",
      "_view_name": "HTMLView",
      "description": "",
      "description_tooltip": null,
      "layout": "IPY_MODEL_4aaa5121ac974c59a0a93f7c96243442",
      "placeholder": "​",
      "style": "IPY_MODEL_bc215493b25a47c0b04c608f12366fdf",
      "value": "Map: 100%"
     }
    },
    "4aaa5121ac974c59a0a93f7c96243442": {
     "model_module": "@jupyter-widgets/base",
     "model_module_version": "1.2.0",
     "model_name": "LayoutModel",
     "state": {
      "_model_module": "@jupyter-widgets/base",
      "_model_module_version": "1.2.0",
      "_model_name": "LayoutModel",
      "_view_count": null,
      "_view_module": "@jupyter-widgets/base",
      "_view_module_version": "1.2.0",
      "_view_name": "LayoutView",
      "align_content": null,
      "align_items": null,
      "align_self": null,
      "border": null,
      "bottom": null,
      "display": null,
      "flex": null,
      "flex_flow": null,
      "grid_area": null,
      "grid_auto_columns": null,
      "grid_auto_flow": null,
      "grid_auto_rows": null,
      "grid_column": null,
      "grid_gap": null,
      "grid_row": null,
      "grid_template_areas": null,
      "grid_template_columns": null,
      "grid_template_rows": null,
      "height": null,
      "justify_content": null,
      "justify_items": null,
      "left": null,
      "margin": null,
      "max_height": null,
      "max_width": null,
      "min_height": null,
      "min_width": null,
      "object_fit": null,
      "object_position": null,
      "order": null,
      "overflow": null,
      "overflow_x": null,
      "overflow_y": null,
      "padding": null,
      "right": null,
      "top": null,
      "visibility": null,
      "width": null
     }
    },
    "4d3babeeec454642aa8ec4ab2e2e77c0": {
     "model_module": "@jupyter-widgets/controls",
     "model_module_version": "1.5.0",
     "model_name": "HTMLModel",
     "state": {
      "_dom_classes": [],
      "_model_module": "@jupyter-widgets/controls",
      "_model_module_version": "1.5.0",
      "_model_name": "HTMLModel",
      "_view_count": null,
      "_view_module": "@jupyter-widgets/controls",
      "_view_module_version": "1.5.0",
      "_view_name": "HTMLView",
      "description": "",
      "description_tooltip": null,
      "layout": "IPY_MODEL_73356a8d0e36429ea1d41e76435bdda4",
      "placeholder": "​",
      "style": "IPY_MODEL_d172b12affa04cee8a0d650d79c75304",
      "value": "Bootstrap round: 100%"
     }
    },
    "55f5d23a4dce45cdbf99777a05aad1ec": {
     "model_module": "@jupyter-widgets/controls",
     "model_module_version": "1.5.0",
     "model_name": "FloatProgressModel",
     "state": {
      "_dom_classes": [],
      "_model_module": "@jupyter-widgets/controls",
      "_model_module_version": "1.5.0",
      "_model_name": "FloatProgressModel",
      "_view_count": null,
      "_view_module": "@jupyter-widgets/controls",
      "_view_module_version": "1.5.0",
      "_view_name": "ProgressView",
      "bar_style": "success",
      "description": "",
      "description_tooltip": null,
      "layout": "IPY_MODEL_8a393d3931ea477794cb557c294ad32c",
      "max": 20017,
      "min": 0,
      "orientation": "horizontal",
      "style": "IPY_MODEL_5ecc47cba97b40db8b915c9fa18ed819",
      "value": 20017
     }
    },
    "5ecc47cba97b40db8b915c9fa18ed819": {
     "model_module": "@jupyter-widgets/controls",
     "model_module_version": "1.5.0",
     "model_name": "ProgressStyleModel",
     "state": {
      "_model_module": "@jupyter-widgets/controls",
      "_model_module_version": "1.5.0",
      "_model_name": "ProgressStyleModel",
      "_view_count": null,
      "_view_module": "@jupyter-widgets/base",
      "_view_module_version": "1.2.0",
      "_view_name": "StyleView",
      "bar_color": null,
      "description_width": ""
     }
    },
    "61e2e1fffbbc4e7d8b69bc9569ebbcab": {
     "model_module": "@jupyter-widgets/base",
     "model_module_version": "1.2.0",
     "model_name": "LayoutModel",
     "state": {
      "_model_module": "@jupyter-widgets/base",
      "_model_module_version": "1.2.0",
      "_model_name": "LayoutModel",
      "_view_count": null,
      "_view_module": "@jupyter-widgets/base",
      "_view_module_version": "1.2.0",
      "_view_name": "LayoutView",
      "align_content": null,
      "align_items": null,
      "align_self": null,
      "border": null,
      "bottom": null,
      "display": null,
      "flex": null,
      "flex_flow": null,
      "grid_area": null,
      "grid_auto_columns": null,
      "grid_auto_flow": null,
      "grid_auto_rows": null,
      "grid_column": null,
      "grid_gap": null,
      "grid_row": null,
      "grid_template_areas": null,
      "grid_template_columns": null,
      "grid_template_rows": null,
      "height": null,
      "justify_content": null,
      "justify_items": null,
      "left": null,
      "margin": null,
      "max_height": null,
      "max_width": null,
      "min_height": null,
      "min_width": null,
      "object_fit": null,
      "object_position": null,
      "order": null,
      "overflow": null,
      "overflow_x": null,
      "overflow_y": null,
      "padding": null,
      "right": null,
      "top": null,
      "visibility": null,
      "width": null
     }
    },
    "6e8949731126448390f005cbb7a1a5d6": {
     "model_module": "@jupyter-widgets/controls",
     "model_module_version": "1.5.0",
     "model_name": "HBoxModel",
     "state": {
      "_dom_classes": [],
      "_model_module": "@jupyter-widgets/controls",
      "_model_module_version": "1.5.0",
      "_model_name": "HBoxModel",
      "_view_count": null,
      "_view_module": "@jupyter-widgets/controls",
      "_view_module_version": "1.5.0",
      "_view_name": "HBoxView",
      "box_style": "",
      "children": [
       "IPY_MODEL_4d3babeeec454642aa8ec4ab2e2e77c0",
       "IPY_MODEL_81ac510eadae481e881a0f0a3ca08403",
       "IPY_MODEL_31b434ae0cef4a7eb7b307ec4a57f47f"
      ],
      "layout": "IPY_MODEL_1df2147812254a82a1d5db706f1d4dd6"
     }
    },
    "73356a8d0e36429ea1d41e76435bdda4": {
     "model_module": "@jupyter-widgets/base",
     "model_module_version": "1.2.0",
     "model_name": "LayoutModel",
     "state": {
      "_model_module": "@jupyter-widgets/base",
      "_model_module_version": "1.2.0",
      "_model_name": "LayoutModel",
      "_view_count": null,
      "_view_module": "@jupyter-widgets/base",
      "_view_module_version": "1.2.0",
      "_view_name": "LayoutView",
      "align_content": null,
      "align_items": null,
      "align_self": null,
      "border": null,
      "bottom": null,
      "display": null,
      "flex": null,
      "flex_flow": null,
      "grid_area": null,
      "grid_auto_columns": null,
      "grid_auto_flow": null,
      "grid_auto_rows": null,
      "grid_column": null,
      "grid_gap": null,
      "grid_row": null,
      "grid_template_areas": null,
      "grid_template_columns": null,
      "grid_template_rows": null,
      "height": null,
      "justify_content": null,
      "justify_items": null,
      "left": null,
      "margin": null,
      "max_height": null,
      "max_width": null,
      "min_height": null,
      "min_width": null,
      "object_fit": null,
      "object_position": null,
      "order": null,
      "overflow": null,
      "overflow_x": null,
      "overflow_y": null,
      "padding": null,
      "right": null,
      "top": null,
      "visibility": null,
      "width": null
     }
    },
    "76512261bb524d8fa4481105a92de61c": {
     "model_module": "@jupyter-widgets/controls",
     "model_module_version": "1.5.0",
     "model_name": "HTMLModel",
     "state": {
      "_dom_classes": [],
      "_model_module": "@jupyter-widgets/controls",
      "_model_module_version": "1.5.0",
      "_model_name": "HTMLModel",
      "_view_count": null,
      "_view_module": "@jupyter-widgets/controls",
      "_view_module_version": "1.5.0",
      "_view_name": "HTMLView",
      "description": "",
      "description_tooltip": null,
      "layout": "IPY_MODEL_61e2e1fffbbc4e7d8b69bc9569ebbcab",
      "placeholder": "​",
      "style": "IPY_MODEL_2db0fd346d774381846ccfd4b8a8a914",
      "value": " 20017/20017 [00:09&lt;00:00, 2501.09 examples/s]"
     }
    },
    "81ac510eadae481e881a0f0a3ca08403": {
     "model_module": "@jupyter-widgets/controls",
     "model_module_version": "1.5.0",
     "model_name": "FloatProgressModel",
     "state": {
      "_dom_classes": [],
      "_model_module": "@jupyter-widgets/controls",
      "_model_module_version": "1.5.0",
      "_model_name": "FloatProgressModel",
      "_view_count": null,
      "_view_module": "@jupyter-widgets/controls",
      "_view_module_version": "1.5.0",
      "_view_name": "ProgressView",
      "bar_style": "success",
      "description": "",
      "description_tooltip": null,
      "layout": "IPY_MODEL_0a4e93c4c7774ef886d7c364600cf6e5",
      "max": 500,
      "min": 0,
      "orientation": "horizontal",
      "style": "IPY_MODEL_b61092d892d74e9c9bc131d6bf73883f",
      "value": 500
     }
    },
    "8a393d3931ea477794cb557c294ad32c": {
     "model_module": "@jupyter-widgets/base",
     "model_module_version": "1.2.0",
     "model_name": "LayoutModel",
     "state": {
      "_model_module": "@jupyter-widgets/base",
      "_model_module_version": "1.2.0",
      "_model_name": "LayoutModel",
      "_view_count": null,
      "_view_module": "@jupyter-widgets/base",
      "_view_module_version": "1.2.0",
      "_view_name": "LayoutView",
      "align_content": null,
      "align_items": null,
      "align_self": null,
      "border": null,
      "bottom": null,
      "display": null,
      "flex": null,
      "flex_flow": null,
      "grid_area": null,
      "grid_auto_columns": null,
      "grid_auto_flow": null,
      "grid_auto_rows": null,
      "grid_column": null,
      "grid_gap": null,
      "grid_row": null,
      "grid_template_areas": null,
      "grid_template_columns": null,
      "grid_template_rows": null,
      "height": null,
      "justify_content": null,
      "justify_items": null,
      "left": null,
      "margin": null,
      "max_height": null,
      "max_width": null,
      "min_height": null,
      "min_width": null,
      "object_fit": null,
      "object_position": null,
      "order": null,
      "overflow": null,
      "overflow_x": null,
      "overflow_y": null,
      "padding": null,
      "right": null,
      "top": null,
      "visibility": null,
      "width": null
     }
    },
    "99450a9732f14f359a9f3c62e6ef1382": {
     "model_module": "@jupyter-widgets/controls",
     "model_module_version": "1.5.0",
     "model_name": "DescriptionStyleModel",
     "state": {
      "_model_module": "@jupyter-widgets/controls",
      "_model_module_version": "1.5.0",
      "_model_name": "DescriptionStyleModel",
      "_view_count": null,
      "_view_module": "@jupyter-widgets/base",
      "_view_module_version": "1.2.0",
      "_view_name": "StyleView",
      "description_width": ""
     }
    },
    "b61092d892d74e9c9bc131d6bf73883f": {
     "model_module": "@jupyter-widgets/controls",
     "model_module_version": "1.5.0",
     "model_name": "ProgressStyleModel",
     "state": {
      "_model_module": "@jupyter-widgets/controls",
      "_model_module_version": "1.5.0",
      "_model_name": "ProgressStyleModel",
      "_view_count": null,
      "_view_module": "@jupyter-widgets/base",
      "_view_module_version": "1.2.0",
      "_view_name": "StyleView",
      "bar_color": null,
      "description_width": ""
     }
    },
    "bc215493b25a47c0b04c608f12366fdf": {
     "model_module": "@jupyter-widgets/controls",
     "model_module_version": "1.5.0",
     "model_name": "DescriptionStyleModel",
     "state": {
      "_model_module": "@jupyter-widgets/controls",
      "_model_module_version": "1.5.0",
      "_model_name": "DescriptionStyleModel",
      "_view_count": null,
      "_view_module": "@jupyter-widgets/base",
      "_view_module_version": "1.2.0",
      "_view_name": "StyleView",
      "description_width": ""
     }
    },
    "c2d1cef75c6c49abbf26ef338207f676": {
     "model_module": "@jupyter-widgets/controls",
     "model_module_version": "1.5.0",
     "model_name": "HBoxModel",
     "state": {
      "_dom_classes": [],
      "_model_module": "@jupyter-widgets/controls",
      "_model_module_version": "1.5.0",
      "_model_name": "HBoxModel",
      "_view_count": null,
      "_view_module": "@jupyter-widgets/controls",
      "_view_module_version": "1.5.0",
      "_view_name": "HBoxView",
      "box_style": "",
      "children": [
       "IPY_MODEL_4a5200b97d014a4d92941e2aef211a03",
       "IPY_MODEL_55f5d23a4dce45cdbf99777a05aad1ec",
       "IPY_MODEL_76512261bb524d8fa4481105a92de61c"
      ],
      "layout": "IPY_MODEL_346869d7229445faad402937afce01c6"
     }
    },
    "d172b12affa04cee8a0d650d79c75304": {
     "model_module": "@jupyter-widgets/controls",
     "model_module_version": "1.5.0",
     "model_name": "DescriptionStyleModel",
     "state": {
      "_model_module": "@jupyter-widgets/controls",
      "_model_module_version": "1.5.0",
      "_model_name": "DescriptionStyleModel",
      "_view_count": null,
      "_view_module": "@jupyter-widgets/base",
      "_view_module_version": "1.2.0",
      "_view_name": "StyleView",
      "description_width": ""
     }
    }
   }
  }
 },
 "nbformat": 4,
 "nbformat_minor": 1
}
